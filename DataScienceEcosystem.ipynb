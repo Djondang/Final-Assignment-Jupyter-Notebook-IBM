{
 "cells": [
  {
   "cell_type": "markdown",
   "id": "ebd4ec13-4410-4a78-884c-ad152f67a655",
   "metadata": {},
   "source": [
    "# Data Science Tools and Ecosystem"
   ]
  },
  {
   "cell_type": "markdown",
   "id": "94daf94d-5773-4099-803a-bf4572ac3b32",
   "metadata": {},
   "source": [
    "In this notebook, Data Science Tools and Ecosystem are summarized."
   ]
  },
  {
   "cell_type": "markdown",
   "id": "373be507-29b4-4103-89c9-97a876a1b199",
   "metadata": {},
   "source": [
    "**Objectives:**\n",
    "* List popular languages for Data Science\n",
    "* List commonly libraries used by Data Scientists\n",
    "* Table of Data Science Tools\n",
    "* Few examples of evaluating arithmetic expressions in Python"
   ]
  },
  {
   "cell_type": "markdown",
   "id": "2e2d65f5-5ea6-4cad-b880-b30352f83f7b",
   "metadata": {},
   "source": [
    "Some of the popular languages that Data Scientists use are:\n",
    "1. Python\n",
    "2. R\n",
    "3. SQL\n",
    "4. Julia\n",
    "5. Java"
   ]
  },
  {
   "cell_type": "markdown",
   "id": "dbb03a9e-0814-4587-8ef2-e668d69774d1",
   "metadata": {},
   "source": [
    "Some of the commonly used libraries used by Data Scientists include:\n",
    "1. Pandas\n",
    "2. NumPy\n",
    "3. TensorFlow\n",
    "4. ggplot2\n",
    "5. caret"
   ]
  },
  {
   "cell_type": "markdown",
   "id": "ff2e921d-f855-45fb-971b-ca464355cd6e",
   "metadata": {},
   "source": [
    "|Data Science Tools|\n",
    "|------------------|\n",
    "|Python|\n",
    "|R|\n",
    "|SQL|\n",
    "|Julia|\n",
    "|Java|"
   ]
  },
  {
   "cell_type": "markdown",
   "id": "7b7edbf9-51b5-4d4a-b735-61d07290ea90",
   "metadata": {},
   "source": [
    "### Below are a few examples of evaluating arithmetic expressions in Python"
   ]
  },
  {
   "cell_type": "code",
   "execution_count": 6,
   "id": "9aee6cf3-3f23-4463-b66c-848274108e75",
   "metadata": {},
   "outputs": [
    {
     "data": {
      "text/plain": [
       "17"
      ]
     },
     "execution_count": 6,
     "metadata": {},
     "output_type": "execute_result"
    }
   ],
   "source": [
    "# This a simple arithmetic expression to mutiply then add integers\n",
    "(3*4)+5"
   ]
  },
  {
   "cell_type": "code",
   "execution_count": 9,
   "id": "3d71c439-2584-4663-8ff8-fabb5ad0f157",
   "metadata": {},
   "outputs": [
    {
     "name": "stdout",
     "output_type": "stream",
     "text": [
      "3 hours and  20 minutminutes\n"
     ]
    }
   ],
   "source": [
    "# This will convert 200 minutes to hours by diving by 60\n",
    "minutes = 200\n",
    "hours = minutes // 60\n",
    "remaining_minutes = minutes % 60\n",
    "\n",
    "print(hours, \"hours and \", remaining_minutes, \"minutminutes\")"
   ]
  },
  {
   "cell_type": "markdown",
   "id": "611e6b42-df89-44cf-9377-f996722df13a",
   "metadata": {},
   "source": [
    "## Author\n",
    "DJONDANG Aoudou"
   ]
  },
  {
   "cell_type": "code",
   "execution_count": null,
   "id": "3ac6dccd-10c4-4f8e-93e6-8b9a41e6d970",
   "metadata": {},
   "outputs": [],
   "source": []
  }
 ],
 "metadata": {
  "kernelspec": {
   "display_name": "Python 3 (ipykernel)",
   "language": "python",
   "name": "python3"
  },
  "language_info": {
   "codemirror_mode": {
    "name": "ipython",
    "version": 3
   },
   "file_extension": ".py",
   "mimetype": "text/x-python",
   "name": "python",
   "nbconvert_exporter": "python",
   "pygments_lexer": "ipython3",
   "version": "3.12.8"
  }
 },
 "nbformat": 4,
 "nbformat_minor": 5
}
